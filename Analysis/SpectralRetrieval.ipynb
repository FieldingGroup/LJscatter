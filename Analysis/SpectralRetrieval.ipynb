{
 "cells": [
  {
   "cell_type": "markdown",
   "id": "6f27b06b-d168-4060-87d9-62463f36813a",
   "metadata": {},
   "source": [
    "# Spectral retrieval of UVLJscatter\n",
    "\n",
    "In this notebook, the basis sets obtained from Monte-Carlo simulations of electron transport in liquid jets are employed to retrieve true photoelectron spectra from measured ones."
   ]
  },
  {
   "cell_type": "code",
   "execution_count": 1,
   "id": "506fb5ad-73ec-48a2-816f-70c0e78b2535",
   "metadata": {},
   "outputs": [],
   "source": [
    "# Import necessary packages\n",
    "import numpy as np\n",
    "import matplotlib.pyplot as plt\n",
    "from matplotlib.ticker import MultipleLocator\n",
    "from scipy.interpolate import interp1d\n",
    "from scipy.optimize import curve_fit\n",
    "import h5py"
   ]
  },
  {
   "cell_type": "code",
   "execution_count": 2,
   "id": "c8b4630c-7338-42bc-ad99-4e52045c1e65",
   "metadata": {},
   "outputs": [],
   "source": [
    "# Changes default parameters of plots, so they look betteer/more scientific\n",
    "plt.rcParams['figure.dpi'] = 300\n",
    "plt.rcParams['font.family'] = 'Arial'\n",
    "plt.rcParams['font.size'] = 9\n",
    "plt.rcParams['legend.fontsize'] = 7\n",
    "plt.rcParams['axes.labelsize'] = 'medium' #equal to font.size\n",
    "plt.rcParams['legend.handletextpad'] = 0.3\n",
    "plt.rcParams['legend.labelspacing'] = 0.3\n",
    "plt.rcParams['lines.linewidth'] = 1\n",
    "plt.rcParams['lines.markersize'] = 6\n",
    "ACSwid = 3.33\n",
    "plt.rcParams['figure.figsize'] = (ACSwid, ACSwid*0.75)\n"
   ]
  },
  {
   "cell_type": "markdown",
   "id": "cfa36996-8847-4492-9da2-a834d764218c",
   "metadata": {
    "tags": []
   },
   "source": [
    "### Load basis sets\n",
    "\n",
    "The cells below are involved in loading the basis sets required in the retrieval.\n",
    "\n",
    "The basis sets are stored in an `h5` file"
   ]
  },
  {
   "cell_type": "code",
   "execution_count": 3,
   "id": "2d53ce8c-a822-4c2d-a92c-724b5931ce67",
   "metadata": {
    "tags": []
   },
   "outputs": [],
   "source": [
    "path_to_folder = \"\"\n",
    "filename_h5 = \"basisConcProfilesTest.h5\""
   ]
  },
  {
   "cell_type": "code",
   "execution_count": 4,
   "id": "f691cd23-d28f-431c-a270-f90b85111999",
   "metadata": {},
   "outputs": [
    {
     "data": {
      "text/plain": [
       "(11, 500, 500)"
      ]
     },
     "execution_count": 4,
     "metadata": {},
     "output_type": "execute_result"
    }
   ],
   "source": [
    "# Extract basis sets, Gaussian-offset ratios and escape threshold\n",
    "# Use showH5structure.ipynb to see what is included in the h5 file\n",
    "\n",
    "basisSets = []\n",
    "with h5py.File(filename_h5, 'r') as hf:\n",
    "    # Get Gaussian-offset ratios\n",
    "    concAmps = hf['metadata'].attrs['gaussianAmplitudes']\n",
    "    E0 = hf['metadata'].attrs['E0']\n",
    "    for amp in concAmps:\n",
    "        # Get basis\n",
    "        basis = hf['data'][f\"basisSet_{amp}\"][:]\n",
    "        #Append to list of basis sets\n",
    "        basisSets.append(basis)\n",
    "\n",
    "basisSets = np.array(basisSets)\n",
    "basisSets.shape"
   ]
  },
  {
   "cell_type": "code",
   "execution_count": 5,
   "id": "909baf27-3b0c-4be4-b10b-ef6171fb260d",
   "metadata": {},
   "outputs": [],
   "source": [
    "# Normalise by maximum value in each basis set (with a specific concAmp)\n",
    "# So that intensities in plots are nice\n",
    "basisSetsNorm = np.copy(basisSets)\n",
    "for i in range(basisSets.shape[0]):\n",
    "    basisSetsNorm[i,:,:] = basisSetsNorm[i,:,:] / (np.amax(basisSetsNorm[i,:,:]))"
   ]
  },
  {
   "cell_type": "markdown",
   "id": "0ed215b4-489a-4ca0-bec1-fc0f626cff66",
   "metadata": {
    "tags": []
   },
   "source": [
    "### Load experimental data"
   ]
  },
  {
   "cell_type": "code",
   "execution_count": 6,
   "id": "c97a7adb-9d67-44bb-95b9-325c5fc4575b",
   "metadata": {},
   "outputs": [],
   "source": [
    "water_data = np.genfromtxt(r\"water_200nm.csv\",delimiter=',',skip_header=1,filling_values=np.nan).T"
   ]
  },
  {
   "cell_type": "markdown",
   "id": "940217a0-3ef5-4f6a-aa3b-8883c8858f75",
   "metadata": {
    "tags": []
   },
   "source": [
    "### Functions for fitting"
   ]
  },
  {
   "cell_type": "code",
   "execution_count": 7,
   "id": "5b2a409c-702b-4ba8-9973-a61a1faf0e73",
   "metadata": {},
   "outputs": [],
   "source": [
    "#Initial and final energies are binned in 0.01 eV steps between 0 and 5 eV\n",
    "xs = np.arange(0.01,5.01,0.01)"
   ]
  },
  {
   "cell_type": "code",
   "execution_count": 8,
   "id": "e2ea6d30-2836-472a-9a20-39920c8adf31",
   "metadata": {},
   "outputs": [],
   "source": [
    "# Multiple Gaussian function for fitting to bases\n",
    "def multiple_gaussians(x, *params):\n",
    "    \"\"\"Calculate sum of Gaussians for an array of x values.\n",
    "        \n",
    "    params : array_like\n",
    "    \\t array of height, mean and FWHM values\n",
    "    \"\"\"\n",
    "    y = np.zeros_like(x)\n",
    "    for i in range(0, len(params), 3):\n",
    "        amp = params[i]\n",
    "        ctr = params[i+1]\n",
    "        FWHM = params[i+2] \n",
    "        wid = FWHM * 0.60056\n",
    "        y = y + amp * np.exp( -((x - ctr)/wid)**2)\n",
    "    return y"
   ]
  },
  {
   "cell_type": "code",
   "execution_count": 9,
   "id": "bdc3f063-64fc-40fc-a1ee-f770ef1e1570",
   "metadata": {},
   "outputs": [],
   "source": [
    "# Class used to convert true Gaussian to distorted Gaussian\n",
    "# It takes a surface basis and a bulk basis\n",
    "class JetFitFunc():\n",
    "    def __init__(self, gauss_types, surf_basis, bulk_basis, min_eKE):\n",
    "        self.gauss_types = gauss_types # list of 'S' (surface) and 'B' (bulk)\n",
    "        self.surf_basis = surf_basis #basis set to use for 'S' gaussians\n",
    "        self.bulk_basis = bulk_basis #basis set to use for 'B' gaussians\n",
    "        self.min_eKE = min_eKE #minimum eKE to fit to\n",
    "\n",
    "    def f(self, x, *params):\n",
    "        y = np.zeros_like(x)\n",
    " \n",
    "        for gauss_ind, param_ind in enumerate(range(0, len(params), 3)):\n",
    "            if self.gauss_types[gauss_ind] == \"S\":\n",
    "                basis = self.surf_basis\n",
    "            elif self.gauss_types[gauss_ind] == \"B\":\n",
    "                basis = self.bulk_basis\n",
    "            else:\n",
    "                raise ValueError(f'Only \"S\" or \"B\" allowed. \"{self.gauss_types[gauss_ind]}\" is not a valid input.')\n",
    "                \n",
    "            amp = params[param_ind]\n",
    "            ctr = params[param_ind+1]\n",
    "            wid = params[param_ind+2]*.60056\n",
    "            y_tmp = amp * np.exp( -((x - ctr)/wid)**2)\n",
    "            y += np.sum(basis.T * y_tmp, axis=1)\n",
    "            \n",
    "        \n",
    "        x_above_cutoff = x[x>=self.min_eKE]\n",
    "        y_above_cutoff = y[x>=self.min_eKE]\n",
    "        \n",
    "        return y_above_cutoff"
   ]
  },
  {
   "cell_type": "code",
   "execution_count": 10,
   "id": "db82d5a2-4a97-42dd-bd4c-d8ded6075071",
   "metadata": {},
   "outputs": [],
   "source": [
    "def interpolateData(data, xs=xs, min_eKE=None):\n",
    "    \"\"\"Data must be interpolated onto the same grid used by the basis sets (xs).\n",
    "    \n",
    "    \"\"\"\n",
    "    #Interpolate data onto xs\n",
    "    itp = interp1d(data[0], data[1], bounds_error=False, fill_value=0.0)\n",
    "    y_itp = itp(xs)\n",
    "    #Cutoff data below min_eKE\n",
    "    if not min_eKE:\n",
    "        min_eKE=min(data[0])\n",
    "    # Remove data below min_eKE\n",
    "    x_above_cutoff = xs[xs>=min_eKE]\n",
    "    y_above_cutoff = y_itp[xs>=min_eKE]\n",
    "\n",
    "    return x_above_cutoff,y_above_cutoff"
   ]
  },
  {
   "cell_type": "markdown",
   "id": "8c6a8c26-7670-4098-bbd9-38f856defa84",
   "metadata": {},
   "source": [
    "## Results"
   ]
  },
  {
   "cell_type": "markdown",
   "id": "7b05a875-b314-44f6-a716-24ab9c59121a",
   "metadata": {},
   "source": [
    "### Fit water @ 200.2 nm\n",
    "\n",
    "$E_0 = 1.0\\,eV$"
   ]
  },
  {
   "cell_type": "code",
   "execution_count": 12,
   "id": "1366ce19-393c-4a99-8b06-cd8bec4565b5",
   "metadata": {},
   "outputs": [
    {
     "name": "stdout",
     "output_type": "stream",
     "text": [
      "G:y_0 = 0.0\n",
      "E_0 = 1.0 eV\n",
      "Gaussian types: B\n"
     ]
    },
    {
     "ename": "IndexError",
     "evalue": "list index out of range",
     "output_type": "error",
     "traceback": [
      "\u001b[1;31m---------------------------------------------------------------------------\u001b[0m",
      "\u001b[1;31mIndexError\u001b[0m                                Traceback (most recent call last)",
      "Cell \u001b[1;32mIn[12], line 30\u001b[0m\n\u001b[0;32m     28\u001b[0m fitfunc \u001b[38;5;241m=\u001b[39m JetFitFunc(gaussTypes, surf_basis, bulk_basis, min_eKE)\n\u001b[0;32m     29\u001b[0m \u001b[38;5;66;03m# Fit function\u001b[39;00m\n\u001b[1;32m---> 30\u001b[0m fit,covar \u001b[38;5;241m=\u001b[39m curve_fit(fitfunc\u001b[38;5;241m.\u001b[39mf, xs, y_above_cutoff,\n\u001b[0;32m     31\u001b[0m                       p0\u001b[38;5;241m=\u001b[39m[\u001b[38;5;241m1\u001b[39m, \u001b[38;5;241m1\u001b[39m, \u001b[38;5;241m1.1\u001b[39m,\u001b[38;5;241m1\u001b[39m,\u001b[38;5;241m2\u001b[39m,\u001b[38;5;241m1\u001b[39m],\n\u001b[0;32m     32\u001b[0m                       bounds\u001b[38;5;241m=\u001b[39m(\u001b[38;5;241m0\u001b[39m, np\u001b[38;5;241m.\u001b[39minf)\n\u001b[0;32m     33\u001b[0m                       )\n\u001b[0;32m     34\u001b[0m \u001b[38;5;66;03m#Plot data and results\u001b[39;00m\n\u001b[0;32m     35\u001b[0m ax\u001b[38;5;241m.\u001b[39mplot(x_above_cutoff,y_above_cutoff, \u001b[38;5;124m'\u001b[39m\u001b[38;5;124mgray\u001b[39m\u001b[38;5;124m'\u001b[39m,label\u001b[38;5;241m=\u001b[39m\u001b[38;5;124m\"\u001b[39m\u001b[38;5;124mData\u001b[39m\u001b[38;5;124m\"\u001b[39m)\n",
      "File \u001b[1;32m~\\AppData\\Local\\anaconda3\\Lib\\site-packages\\scipy\\optimize\\_minpack_py.py:988\u001b[0m, in \u001b[0;36mcurve_fit\u001b[1;34m(f, xdata, ydata, p0, sigma, absolute_sigma, check_finite, bounds, method, jac, full_output, nan_policy, **kwargs)\u001b[0m\n\u001b[0;32m    985\u001b[0m \u001b[38;5;28;01mif\u001b[39;00m \u001b[38;5;124m'\u001b[39m\u001b[38;5;124mmax_nfev\u001b[39m\u001b[38;5;124m'\u001b[39m \u001b[38;5;129;01mnot\u001b[39;00m \u001b[38;5;129;01min\u001b[39;00m kwargs:\n\u001b[0;32m    986\u001b[0m     kwargs[\u001b[38;5;124m'\u001b[39m\u001b[38;5;124mmax_nfev\u001b[39m\u001b[38;5;124m'\u001b[39m] \u001b[38;5;241m=\u001b[39m kwargs\u001b[38;5;241m.\u001b[39mpop(\u001b[38;5;124m'\u001b[39m\u001b[38;5;124mmaxfev\u001b[39m\u001b[38;5;124m'\u001b[39m, \u001b[38;5;28;01mNone\u001b[39;00m)\n\u001b[1;32m--> 988\u001b[0m res \u001b[38;5;241m=\u001b[39m least_squares(func, p0, jac\u001b[38;5;241m=\u001b[39mjac, bounds\u001b[38;5;241m=\u001b[39mbounds, method\u001b[38;5;241m=\u001b[39mmethod,\n\u001b[0;32m    989\u001b[0m                     \u001b[38;5;241m*\u001b[39m\u001b[38;5;241m*\u001b[39mkwargs)\n\u001b[0;32m    991\u001b[0m \u001b[38;5;28;01mif\u001b[39;00m \u001b[38;5;129;01mnot\u001b[39;00m res\u001b[38;5;241m.\u001b[39msuccess:\n\u001b[0;32m    992\u001b[0m     \u001b[38;5;28;01mraise\u001b[39;00m \u001b[38;5;167;01mRuntimeError\u001b[39;00m(\u001b[38;5;124m\"\u001b[39m\u001b[38;5;124mOptimal parameters not found: \u001b[39m\u001b[38;5;124m\"\u001b[39m \u001b[38;5;241m+\u001b[39m res\u001b[38;5;241m.\u001b[39mmessage)\n",
      "File \u001b[1;32m~\\AppData\\Local\\anaconda3\\Lib\\site-packages\\scipy\\optimize\\_lsq\\least_squares.py:832\u001b[0m, in \u001b[0;36mleast_squares\u001b[1;34m(fun, x0, jac, bounds, method, ftol, xtol, gtol, x_scale, loss, f_scale, diff_step, tr_solver, tr_options, jac_sparsity, max_nfev, verbose, args, kwargs)\u001b[0m\n\u001b[0;32m    829\u001b[0m \u001b[38;5;28;01mdef\u001b[39;00m \u001b[38;5;21mfun_wrapped\u001b[39m(x):\n\u001b[0;32m    830\u001b[0m     \u001b[38;5;28;01mreturn\u001b[39;00m np\u001b[38;5;241m.\u001b[39matleast_1d(fun(x, \u001b[38;5;241m*\u001b[39margs, \u001b[38;5;241m*\u001b[39m\u001b[38;5;241m*\u001b[39mkwargs))\n\u001b[1;32m--> 832\u001b[0m f0 \u001b[38;5;241m=\u001b[39m fun_wrapped(x0)\n\u001b[0;32m    834\u001b[0m \u001b[38;5;28;01mif\u001b[39;00m f0\u001b[38;5;241m.\u001b[39mndim \u001b[38;5;241m!=\u001b[39m \u001b[38;5;241m1\u001b[39m:\n\u001b[0;32m    835\u001b[0m     \u001b[38;5;28;01mraise\u001b[39;00m \u001b[38;5;167;01mValueError\u001b[39;00m(\u001b[38;5;124m\"\u001b[39m\u001b[38;5;124m`fun` must return at most 1-d array_like. \u001b[39m\u001b[38;5;124m\"\u001b[39m\n\u001b[0;32m    836\u001b[0m                      \u001b[38;5;124mf\u001b[39m\u001b[38;5;124m\"\u001b[39m\u001b[38;5;124mf0.shape: \u001b[39m\u001b[38;5;132;01m{\u001b[39;00mf0\u001b[38;5;241m.\u001b[39mshape\u001b[38;5;132;01m}\u001b[39;00m\u001b[38;5;124m\"\u001b[39m)\n",
      "File \u001b[1;32m~\\AppData\\Local\\anaconda3\\Lib\\site-packages\\scipy\\optimize\\_lsq\\least_squares.py:830\u001b[0m, in \u001b[0;36mleast_squares.<locals>.fun_wrapped\u001b[1;34m(x)\u001b[0m\n\u001b[0;32m    829\u001b[0m \u001b[38;5;28;01mdef\u001b[39;00m \u001b[38;5;21mfun_wrapped\u001b[39m(x):\n\u001b[1;32m--> 830\u001b[0m     \u001b[38;5;28;01mreturn\u001b[39;00m np\u001b[38;5;241m.\u001b[39matleast_1d(fun(x, \u001b[38;5;241m*\u001b[39margs, \u001b[38;5;241m*\u001b[39m\u001b[38;5;241m*\u001b[39mkwargs))\n",
      "File \u001b[1;32m~\\AppData\\Local\\anaconda3\\Lib\\site-packages\\scipy\\optimize\\_minpack_py.py:518\u001b[0m, in \u001b[0;36m_lightweight_memoizer.<locals>._memoized_func\u001b[1;34m(params)\u001b[0m\n\u001b[0;32m    515\u001b[0m \u001b[38;5;28;01melif\u001b[39;00m _memoized_func\u001b[38;5;241m.\u001b[39mlast_params \u001b[38;5;129;01mis\u001b[39;00m \u001b[38;5;129;01mnot\u001b[39;00m \u001b[38;5;28;01mNone\u001b[39;00m:\n\u001b[0;32m    516\u001b[0m     _memoized_func\u001b[38;5;241m.\u001b[39mskip_lookup \u001b[38;5;241m=\u001b[39m \u001b[38;5;28;01mTrue\u001b[39;00m\n\u001b[1;32m--> 518\u001b[0m val \u001b[38;5;241m=\u001b[39m f(params)\n\u001b[0;32m    520\u001b[0m \u001b[38;5;28;01mif\u001b[39;00m _memoized_func\u001b[38;5;241m.\u001b[39mlast_params \u001b[38;5;129;01mis\u001b[39;00m \u001b[38;5;28;01mNone\u001b[39;00m:\n\u001b[0;32m    521\u001b[0m     _memoized_func\u001b[38;5;241m.\u001b[39mlast_params \u001b[38;5;241m=\u001b[39m np\u001b[38;5;241m.\u001b[39mcopy(params)\n",
      "File \u001b[1;32m~\\AppData\\Local\\anaconda3\\Lib\\site-packages\\scipy\\optimize\\_minpack_py.py:535\u001b[0m, in \u001b[0;36m_wrap_func.<locals>.func_wrapped\u001b[1;34m(params)\u001b[0m\n\u001b[0;32m    534\u001b[0m \u001b[38;5;28;01mdef\u001b[39;00m \u001b[38;5;21mfunc_wrapped\u001b[39m(params):\n\u001b[1;32m--> 535\u001b[0m     \u001b[38;5;28;01mreturn\u001b[39;00m func(xdata, \u001b[38;5;241m*\u001b[39mparams) \u001b[38;5;241m-\u001b[39m ydata\n",
      "Cell \u001b[1;32mIn[9], line 14\u001b[0m, in \u001b[0;36mJetFitFunc.f\u001b[1;34m(self, x, *params)\u001b[0m\n\u001b[0;32m     11\u001b[0m y \u001b[38;5;241m=\u001b[39m np\u001b[38;5;241m.\u001b[39mzeros_like(x)\n\u001b[0;32m     13\u001b[0m \u001b[38;5;28;01mfor\u001b[39;00m gauss_ind, param_ind \u001b[38;5;129;01min\u001b[39;00m \u001b[38;5;28menumerate\u001b[39m(\u001b[38;5;28mrange\u001b[39m(\u001b[38;5;241m0\u001b[39m, \u001b[38;5;28mlen\u001b[39m(params), \u001b[38;5;241m3\u001b[39m)):\n\u001b[1;32m---> 14\u001b[0m     \u001b[38;5;28;01mif\u001b[39;00m \u001b[38;5;28mself\u001b[39m\u001b[38;5;241m.\u001b[39mgauss_types[gauss_ind] \u001b[38;5;241m==\u001b[39m \u001b[38;5;124m\"\u001b[39m\u001b[38;5;124mS\u001b[39m\u001b[38;5;124m\"\u001b[39m:\n\u001b[0;32m     15\u001b[0m         basis \u001b[38;5;241m=\u001b[39m \u001b[38;5;28mself\u001b[39m\u001b[38;5;241m.\u001b[39msurf_basis\n\u001b[0;32m     16\u001b[0m     \u001b[38;5;28;01melif\u001b[39;00m \u001b[38;5;28mself\u001b[39m\u001b[38;5;241m.\u001b[39mgauss_types[gauss_ind] \u001b[38;5;241m==\u001b[39m \u001b[38;5;124m\"\u001b[39m\u001b[38;5;124mB\u001b[39m\u001b[38;5;124m\"\u001b[39m:\n",
      "\u001b[1;31mIndexError\u001b[0m: list index out of range"
     ]
    },
    {
     "data": {
      "image/png": "[encoded data removed]",
      "text/plain": [
       "<Figure size 1998x1498.5 with 1 Axes>"
      ]
     },
     "metadata": {},
     "output_type": "display_data"
    }
   ],
   "source": [
    "fig, ax = plt.subplots()\n",
    "fig.set_size_inches(ACSwid,ACSwid*0.75)\n",
    "fig.set_dpi(600)\n",
    "\n",
    "# Number of photons and wavelength\n",
    "n_photons=2\n",
    "wl = 200.2 #nm\n",
    "# Select data\n",
    "data=water_data\n",
    "# Minumum eKE of data\n",
    "min_eKE = min(data[0])\n",
    "# Interpolate data\n",
    "x_above_cutoff,y_above_cutoff = interpolateData(data)\n",
    "\n",
    "# Pick Gaussian:offset ratio\n",
    "concAmpInd = 0\n",
    "print(f\"G:y_0 = {concAmps[concAmpInd]}\")\n",
    "#Print(E0)\n",
    "print(f\"E_0 = {E0} eV\")\n",
    "#Pick surface or bulk gaussians\n",
    "gaussTypes = ['B']\n",
    "print(\"Gaussian types:\", \", \".join(gaussTypes))\n",
    "\n",
    "#Correct basis set must be selected\n",
    "surf_basis = basisSetsNorm[concAmpInd]\n",
    "bulk_basis = basisSetsNorm[0]\n",
    "#Create fit function\n",
    "fitfunc = JetFitFunc(gaussTypes, surf_basis, bulk_basis, min_eKE)\n",
    "# Fit function\n",
    "fit,covar = curve_fit(fitfunc.f, xs, y_above_cutoff,\n",
    "                      p0=[1, 1, 1.1,1,2,1],\n",
    "                      bounds=(0, np.inf)\n",
    "                      )\n",
    "#Plot data and results\n",
    "ax.plot(x_above_cutoff,y_above_cutoff, 'gray',label=\"Data\")\n",
    "ax.plot(x_above_cutoff, fitfunc.f(xs, *fit),'b', label=\"Fit\")\n",
    "ax.plot(x_above_cutoff, multiple_gaussians(x_above_cutoff, *fit)/fit[0], 'r',label=\"Retrieved\")\n",
    "#Print results\n",
    "print(\"\\nResults\")\n",
    "print(\"eKE\",[float(f\"{f:.2f}\") for f in fit])\n",
    "print(\"STD\",[float(f\"{f:.1}\") for f in np.sqrt(np.diag(covar))])\n",
    "print(\"eBE\",[float(f\"{n_photons*1239.8/wl-f:.2f}\") for f in fit[1::3]])\n",
    "\n",
    "# Format plot\n",
    "ax.legend(frameon=False)\n",
    "ax.set_xlim(0,3)\n",
    "ax.set_ylim(0,1.25)\n",
    "ax.xaxis.set_major_locator(MultipleLocator(.5))\n",
    "ax.xaxis.set_minor_locator(MultipleLocator(.1))\n",
    "ax.yaxis.set_major_locator(MultipleLocator(.5))\n",
    "ax.yaxis.set_minor_locator(MultipleLocator(.1))\n",
    "\n",
    "ax_secondary = ax.secondary_xaxis(\"top\", functions = (lambda x: n_photons*1239.8/wl- x, lambda x: n_photons*1239.8/wl - x))\n",
    "ax_secondary.xaxis.set_major_locator(MultipleLocator(.5))\n",
    "ax_secondary.xaxis.set_minor_locator(MultipleLocator(.1))\n",
    "\n",
    "\n",
    "ax.set_ylabel(\"Photoelectron signal / a.u.\")\n",
    "ax.set_xlabel(\"Electron kinetic energy / eV\")\n",
    "ax_secondary.set_xlabel(\"Electron binding energy / eV\")"
   ]
  },
  {
   "cell_type": "code",
   "execution_count": null,
   "id": "2bbea504-6616-4708-a23d-c7ac9605aa38",
   "metadata": {},
   "outputs": [],
   "source": []
  }
 ],
 "metadata": {
  "kernelspec": {
   "display_name": "Python 3 (ipykernel)",
   "language": "python",
   "name": "python3"
  },
  "language_info": {
   "codemirror_mode": {
    "name": "ipython",
    "version": 3
   },
   "file_extension": ".py",
   "mimetype": "text/x-python",
   "name": "python",
   "nbconvert_exporter": "python",
   "pygments_lexer": "ipython3",
   "version": "3.11.5"
  },
  "toc-showtags": false
 },
 "nbformat": 4,
 "nbformat_minor": 5
}
