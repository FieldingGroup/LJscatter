{
 "cells": [
  {
   "cell_type": "markdown",
   "id": "30507d08-02a5-4c06-b032-1f2e7c83e9d4",
   "metadata": {},
   "source": [
    "# Shows the structure of an h5 file\n",
    "\n",
    "Print the structure of an ```h5``` file showing groups, datasets and attributes"
   ]
  },
  {
   "cell_type": "code",
   "execution_count": 1,
   "id": "c62d6a8b-eec9-442f-910d-06ac5be074c7",
   "metadata": {},
   "outputs": [],
   "source": [
    "import h5py"
   ]
  },
  {
   "cell_type": "code",
   "execution_count": 2,
   "id": "138aa2f9-c0ad-48a4-a3cb-f63cc25200d1",
   "metadata": {},
   "outputs": [],
   "source": [
    "def print_struct(name, obj):\n",
    "    if isinstance(obj, h5py.Group):\n",
    "        nameList = name.split(\"/\")\n",
    "        print(\"\\t\"*(len(nameList)-1) + f\"- {nameList[-1]}\")\n",
    "    elif isinstance(obj, h5py.Dataset):\n",
    "        # print(f\"\\t{name}\")\n",
    "        nameList = name.split(\"/\")\n",
    "        if obj.shape:\n",
    "            #If its structured data\n",
    "            print(\"\\t\"*(len(nameList)-1) + f\"- {nameList[-1]} {obj.shape}\")\n",
    "        else:\n",
    "            # if its a scalar\n",
    "            print(\"\\t\"*(len(nameList)-1) + f\"- {nameList[-1]} (scalar)\")\n",
    "    else:\n",
    "        print('else',name)\n",
    "\n",
    "    for key, value in obj.attrs.items():\n",
    "        print(\"\\t\"*(len(nameList)) + f\"- {key}(attr): {value}\")\n"
   ]
  },
  {
   "cell_type": "code",
   "execution_count": 3,
   "id": "481af139-d522-4520-bbbd-8aff71ce4408",
   "metadata": {},
   "outputs": [
    {
     "name": "stdout",
     "output_type": "stream",
     "text": [
      "basisConcProfilesTest.h5\n",
      "- crossSections&ELPs\n",
      "\t- crossSections (11, 719)\n",
      "\t- crossSectionsNames (11,)\n",
      "\t- energyLossParameters (11, 2)\n",
      "- data\n",
      "\t- basisSet_0.0 (500, 500)\n",
      "\t- basisSet_0.1 (500, 500)\n",
      "\t- basisSet_0.2 (500, 500)\n",
      "\t- basisSet_0.5 (500, 500)\n",
      "\t- basisSet_1.0 (500, 500)\n",
      "\t- basisSet_10.0 (500, 500)\n",
      "\t- basisSet_100.0 (500, 500)\n",
      "\t- basisSet_2.0 (500, 500)\n",
      "\t- basisSet_20.0 (500, 500)\n",
      "\t- basisSet_5.0 (500, 500)\n",
      "\t- basisSet_50.0 (500, 500)\n",
      "- metadata\n",
      "\t- E0(attr): 1.0\n",
      "\t- crossSectionSetID(attr): b'1b_250224a'\n",
      "\t- extraInfo(attr): b''\n",
      "\t- gaussianAmplitudes(attr): [  0.    0.1   0.2   0.5   1.    2.    5.   10.   20.   50.  100. ]\n",
      "\t- jet_radius(attr): 10000\n",
      "\t- num_electrons(attr): 10\n",
      "\t- r_grid(attr): [ 1  2  3  4  5  6  7  8  9 10 11 12 13 14 15 16 17 18 19 20 21 22 23 24\n",
      " 25 26 27 28 29 30 31 32 33 34 35 36 37 38 39 40 41 42 43 44 45 46 47 48\n",
      " 49 50]\n",
      "\t- r_gridEnd(attr): 50\n",
      "\t- r_gridStart(attr): 1\n",
      "\t- r_gridStep(attr): 1\n",
      "\t- r_gridStop(attr): 50\n"
     ]
    }
   ],
   "source": [
    "filename_hdf = 'allDataTest.h5'\n",
    "filename_hdf = 'basisConcProfilesTest.h5'\n",
    "\n",
    "with h5py.File(filename_hdf, 'r') as hf:\n",
    "    print(filename_hdf)\n",
    "    hf.visititems(print_struct)"
   ]
  },
  {
   "cell_type": "code",
   "execution_count": null,
   "id": "2fab1aba-b148-4413-a815-3a213e5f7b37",
   "metadata": {},
   "outputs": [],
   "source": []
  }
 ],
 "metadata": {
  "kernelspec": {
   "display_name": "Python 3 (ipykernel)",
   "language": "python",
   "name": "python3"
  },
  "language_info": {
   "codemirror_mode": {
    "name": "ipython",
    "version": 3
   },
   "file_extension": ".py",
   "mimetype": "text/x-python",
   "name": "python",
   "nbconvert_exporter": "python",
   "pygments_lexer": "ipython3",
   "version": "3.11.5"
  }
 },
 "nbformat": 4,
 "nbformat_minor": 5
}
